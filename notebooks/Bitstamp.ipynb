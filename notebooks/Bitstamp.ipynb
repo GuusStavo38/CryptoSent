{
 "cells": [
  {
   "cell_type": "code",
   "execution_count": 3,
   "metadata": {},
   "outputs": [],
   "source": [
    "import boto3\n",
    "import requests\n",
    "import json\n",
    "\n",
    "from CryptoSentWebApp import config, constants"
   ]
  },
  {
   "cell_type": "code",
   "execution_count": 4,
   "metadata": {},
   "outputs": [],
   "source": [
    "conf = config.get_secret('prd/CryptoSentWebApp/Bitstamp')"
   ]
  },
  {
   "cell_type": "code",
   "execution_count": 14,
   "metadata": {},
   "outputs": [],
   "source": [
    "resp = requests.get('https://www.bitstamp.net/api/v2/ticker/btcusd/')"
   ]
  },
  {
   "cell_type": "code",
   "execution_count": 17,
   "metadata": {},
   "outputs": [
    {
     "data": {
      "text/plain": [
       "{'high': '7306.15',\n",
       " 'last': '7175.50',\n",
       " 'timestamp': '1587293651',\n",
       " 'bid': '7174.99',\n",
       " 'vwap': '7198.50',\n",
       " 'volume': '5887.21014167',\n",
       " 'low': '7065.41',\n",
       " 'ask': '7178.78',\n",
       " 'open': '7265.94'}"
      ]
     },
     "execution_count": 17,
     "metadata": {},
     "output_type": "execute_result"
    }
   ],
   "source": [
    "resp.json()"
   ]
  }
 ],
 "metadata": {
  "kernelspec": {
   "display_name": "cryptosent",
   "language": "python",
   "name": "cryptosent"
  },
  "language_info": {
   "codemirror_mode": {
    "name": "ipython",
    "version": 3
   },
   "file_extension": ".py",
   "mimetype": "text/x-python",
   "name": "python",
   "nbconvert_exporter": "python",
   "pygments_lexer": "ipython3",
   "version": "3.6.9"
  }
 },
 "nbformat": 4,
 "nbformat_minor": 2
}
