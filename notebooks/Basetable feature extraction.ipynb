{
 "cells": [
  {
   "cell_type": "code",
   "execution_count": 172,
   "metadata": {},
   "outputs": [],
   "source": [
    "import pandas as pd\n",
    "from nltk import tokenize, pos_tag\n",
    "from nltk.sentiment.vader import SentimentIntensityAnalyzer\n",
    "import pickle"
   ]
  },
  {
   "cell_type": "code",
   "execution_count": 3,
   "metadata": {},
   "outputs": [],
   "source": [
    "btc = pd.read_csv('../data/btcusd.csv')"
   ]
  },
  {
   "cell_type": "markdown",
   "metadata": {},
   "source": [
    "# Reddit comments"
   ]
  },
  {
   "cell_type": "code",
   "execution_count": 154,
   "metadata": {},
   "outputs": [],
   "source": [
    "COINLIST = {\n",
    "#     'ETH': 'Ethereum',\n",
    "    'BTC': 'Bitcoin',\n",
    "#     'XMR': 'Monero',\n",
    "#     'LTC': 'Litecoin',\n",
    "#     'DASH': 'Dash'\n",
    "}"
   ]
  },
  {
   "cell_type": "code",
   "execution_count": 155,
   "metadata": {},
   "outputs": [],
   "source": [
    "def extract_subject(words):\n",
    "    subjects = set()\n",
    "    for word in words:\n",
    "        if word in COINLIST.keys() or word.upper() in COINLIST.keys():\n",
    "            subjects.add(COINLIST[word.upper()])\n",
    "        elif word in COINLIST.values() or word.capitalize() in COINLIST.values():\n",
    "            subjects.add(word.capitalize())\n",
    "    return list(subjects)"
   ]
  },
  {
   "cell_type": "code",
   "execution_count": 93,
   "metadata": {},
   "outputs": [],
   "source": [
    "sid = SentimentIntensityAnalyzer()"
   ]
  },
  {
   "cell_type": "code",
   "execution_count": 94,
   "metadata": {},
   "outputs": [],
   "source": [
    "reddit = pd.read_csv('../data/reddit_comments_20180101.csv', low_memory=False)"
   ]
  },
  {
   "cell_type": "code",
   "execution_count": 95,
   "metadata": {},
   "outputs": [],
   "source": [
    "reddit['sentence'] = reddit['body'].apply(tokenize.sent_tokenize)"
   ]
  },
  {
   "cell_type": "code",
   "execution_count": 119,
   "metadata": {},
   "outputs": [],
   "source": [
    "reddit['created_utc'] = pd.to_datetime(reddit['created_utc'])"
   ]
  },
  {
   "cell_type": "code",
   "execution_count": 96,
   "metadata": {},
   "outputs": [],
   "source": [
    "reddit = reddit.explode('sentence')"
   ]
  },
  {
   "cell_type": "code",
   "execution_count": 98,
   "metadata": {},
   "outputs": [],
   "source": [
    "reddit['words'] = reddit['sentence'].apply(tokenize.word_tokenize) "
   ]
  },
  {
   "cell_type": "code",
   "execution_count": 156,
   "metadata": {},
   "outputs": [],
   "source": [
    "reddit['subjects'] = reddit['words'].apply(extract_subject)"
   ]
  },
  {
   "cell_type": "code",
   "execution_count": 157,
   "metadata": {},
   "outputs": [],
   "source": [
    "reddit = reddit.loc[reddit['subjects'].apply(len) > 0]"
   ]
  },
  {
   "cell_type": "code",
   "execution_count": 158,
   "metadata": {},
   "outputs": [],
   "source": [
    "reddit['sentiment'] = reddit['sentence'].apply(lambda x: sid.polarity_scores(x)['compound'])"
   ]
  },
  {
   "cell_type": "code",
   "execution_count": 159,
   "metadata": {},
   "outputs": [],
   "source": [
    "reddit = reddit.explode('subjects')"
   ]
  },
  {
   "cell_type": "code",
   "execution_count": 160,
   "metadata": {},
   "outputs": [],
   "source": [
    "basetable = reddit[['subjects', 'created_utc', 'sentiment']].sort_values('created_utc')"
   ]
  },
  {
   "cell_type": "code",
   "execution_count": 161,
   "metadata": {},
   "outputs": [],
   "source": [
    "basetable = basetable.set_index('created_utc')"
   ]
  },
  {
   "cell_type": "code",
   "execution_count": 162,
   "metadata": {},
   "outputs": [],
   "source": [
    "bt_1h = basetable.groupby('subjects')['sentiment'].rolling('1d').mean()\n",
    "bt_1h.name = 'sentiment_1h'"
   ]
  },
  {
   "cell_type": "code",
   "execution_count": 163,
   "metadata": {},
   "outputs": [],
   "source": [
    "bt_1h = basetable.groupby('subjects')['sentiment'].rolling('2h').mean()\n",
    "bt_1h.name = 'sentiment_1h'"
   ]
  },
  {
   "cell_type": "code",
   "execution_count": 164,
   "metadata": {},
   "outputs": [],
   "source": [
    "bt_1h = basetable.groupby('subjects')['sentiment'].rolling('1h').mean()\n",
    "bt_1h.name = 'sentiment_1h'"
   ]
  },
  {
   "cell_type": "code",
   "execution_count": 165,
   "metadata": {},
   "outputs": [],
   "source": [
    "bt_1d = basetable.groupby('subjects')['sentiment'].rolling('1d').mean()\n",
    "bt_1d.name = 'sentiment_1d'"
   ]
  },
  {
   "cell_type": "code",
   "execution_count": 166,
   "metadata": {},
   "outputs": [],
   "source": [
    "basetable = pd.concat([bt_1h, bt_1d], 1).reset_index()"
   ]
  },
  {
   "cell_type": "code",
   "execution_count": 171,
   "metadata": {},
   "outputs": [
    {
     "data": {
      "text/plain": [
       "<matplotlib.axes._subplots.AxesSubplot at 0x7f27300f89b0>"
      ]
     },
     "execution_count": 171,
     "metadata": {},
     "output_type": "execute_result"
    },
    {
     "data": {
      "image/png": "[encoded data removed]",
      "text/plain": [
       "<Figure size 432x288 with 1 Axes>"
      ]
     },
     "metadata": {
      "needs_background": "light"
     },
     "output_type": "display_data"
    }
   ],
   "source": [
    "basetable.plot('created_utc', 'sentiment_1h')"
   ]
  },
  {
   "cell_type": "code",
   "execution_count": 130,
   "metadata": {},
   "outputs": [
    {
     "data": {
      "text/plain": [
       "subjects  created_utc              \n",
       "Bitcoin   2018-05-23 01:02:57+00:00    0.273200\n",
       "          2018-05-23 01:08:30+00:00    0.136600\n",
       "          2018-05-23 01:08:39+00:00    0.091067\n",
       "          2018-05-23 01:09:06+00:00    0.068300\n",
       "          2018-05-23 01:09:15+00:00    0.054640\n",
       "                                         ...   \n",
       "Monero    2018-06-26 15:37:54+00:00    0.034374\n",
       "          2018-06-26 17:00:46+00:00    0.032942\n",
       "          2018-06-26 18:04:59+00:00    0.005680\n",
       "          2018-06-26 18:23:06+00:00   -0.003135\n",
       "          2018-06-26 19:36:30+00:00   -0.003019\n",
       "Name: sentiment, Length: 25411, dtype: float64"
      ]
     },
     "execution_count": 130,
     "metadata": {},
     "output_type": "execute_result"
    }
   ],
   "source": [
    "basetable_1d"
   ]
  }
 ],
 "metadata": {
  "kernelspec": {
   "display_name": "cryptosent",
   "language": "python",
   "name": "cryptosent"
  },
  "language_info": {
   "codemirror_mode": {
    "name": "ipython",
    "version": 3
   },
   "file_extension": ".py",
   "mimetype": "text/x-python",
   "name": "python",
   "nbconvert_exporter": "python",
   "pygments_lexer": "ipython3",
   "version": "3.6.9"
  }
 },
 "nbformat": 4,
 "nbformat_minor": 2
}
